{
 "cells": [
  {
   "cell_type": "code",
   "execution_count": null,
   "metadata": {},
   "outputs": [],
   "source": [
    "# default_exp data.manipulate"
   ]
  },
  {
   "cell_type": "code",
   "execution_count": null,
   "metadata": {},
   "outputs": [],
   "source": [
    "#hide\n",
    "from nbdev.showdoc import *"
   ]
  },
  {
   "cell_type": "code",
   "execution_count": null,
   "metadata": {},
   "outputs": [],
   "source": [
    "#export\n",
    "from fastscript import call_parse,Param,bool_arg\n",
    "from scipy import ndimage\n",
    "\n",
    "import math\n",
    "import matplotlib.pyplot as plt\n",
    "import numpy as np\n",
    "import os\n",
    "import pandas as pd\n",
    "import pydicom"
   ]
  },
  {
   "cell_type": "markdown",
   "metadata": {},
   "source": [
    "# Data.Manipulate\n",
    "\n",
    "> IO tools for manipulating medical images"
   ]
  },
  {
   "cell_type": "code",
   "execution_count": null,
   "metadata": {},
   "outputs": [],
   "source": [
    "#test\n",
    "try:\n",
    "    import gdcm\n",
    "    print('Successfully imported GDCM')\n",
    "except ImportError:\n",
    "    print('Could not import GDCM')"
   ]
  },
  {
   "cell_type": "markdown",
   "metadata": {},
   "source": [
    "## dcm2array"
   ]
  },
  {
   "cell_type": "code",
   "execution_count": null,
   "metadata": {},
   "outputs": [],
   "source": [
    "#export\n",
    "def dcm2array(path_to_dicom_dir=None, sort_by_slice_location=True):\n",
    "    \"\"\"\n",
    "    Transform DICOM data into numpy array.\n",
    "\n",
    "    Attributes:\n",
    "        path_to_dicom_dir (str): Path to folder containing all dicom files for one patient\n",
    "        sort_by_slice_location (bool): Whether to return array ordered by slice location\n",
    "\n",
    "    Returns:\n",
    "        pixel_array (arr): Array of pixel data\n",
    "    \"\"\"\n",
    "    try:\n",
    "        import gdcm\n",
    "\n",
    "    except ImportError:\n",
    "        print(\"GDCM needs to be installed.\")\n",
    "        print(\"Try: conda install -c conda-forge gdcm\")\n",
    "\n",
    "    else:\n",
    "        df = pd.DataFrame()\n",
    "        df['filename']= os.listdir(path_to_dicom_dir)\n",
    "        df['pathname']= path_to_dicom_dir + df['filename']\n",
    "\n",
    "        df['DS']=[pydicom.dcmread(x) for x in df['pathname']]\n",
    "        df['SOPInstanceUID'] = [x.SOPInstanceUID for x in df['DS']]\n",
    "        df['SliceLoc'] = [x.InstanceNumber for x in df['DS']]\n",
    "        df['Pixels'] = [x.pixel_array for x in df['DS']]\n",
    "        tempo = df['DS'][0]\n",
    "        im_at = tempo.AcquisitionMatrix, tempo.PixelSpacing\n",
    "\n",
    "        if sort_by_slice_location == True:\n",
    "            df = df.sort_values(by=['SliceLoc'])\n",
    "        pixel_array = np.dstack(np.asarray(df['Pixels']))\n",
    "\n",
    "        return pixel_array\n",
    "    return None"
   ]
  },
  {
   "cell_type": "markdown",
   "metadata": {},
   "source": [
    "### Usage\n",
    "\n",
    "`dcm2array` takes a path to one DICOM series (patient).\n",
    "\n",
    "See the example below:"
   ]
  },
  {
   "cell_type": "code",
   "execution_count": null,
   "metadata": {},
   "outputs": [],
   "source": [
    "data_path = '../data/knee/'\n",
    "try:\n",
    "    image_array = dcm2array(path_to_dicom_dir = data_path, sort_by_slice_location=True)\n",
    "    plt.imshow(image_array[:,:,6])\n",
    "    plt.show()\n",
    "except:\n",
    "    print('could not load array')"
   ]
  },
  {
   "cell_type": "markdown",
   "metadata": {},
   "source": [
    "## Resize"
   ]
  },
  {
   "cell_type": "code",
   "execution_count": null,
   "metadata": {},
   "outputs": [],
   "source": [
    "#export\n",
    "def crop(image_array, final_dims_in_pixels, zero_fill_mode=False):\n",
    "    \"\"\"\n",
    "    Crop image data to final_dim_in_pixels \n",
    "\n",
    "    Attributes:\n",
    "        image_array (float, np.array): 3D numpy array containing image data\n",
    "        final_dim_in_pixels    (list): Final number of pixels in xyz dimensions. Example: [256, 256, 80]\n",
    "        zero_fill_mode         (bool): If True, returns array filled with zeros\n",
    "\n",
    "    Returns:\n",
    "        cropped_image_array (arr): Resized array containing image data\n",
    "    \"\"\"\n",
    "    \n",
    "    dims = len(final_dims_in_pixels)\n",
    "    original_dims_in_pixels = [image_array.shape[d] for d in range(len(image_array.shape))]\n",
    "\n",
    "    # test if input and output dimensions match\n",
    "    if dims != len(original_dims_in_pixels):\n",
    "        raise ValueError(\"Dimensions of the input (\" + str(len(image_array.shape)) +\n",
    "                        \") do not match those of output (\" + str(len(final_dims_in_pixels))+ \")\")\n",
    "    \n",
    "    # test if desired final image is smaller than original\n",
    "    if any(final_dims_in_pixels[d] > original_dims_in_pixels[d] for d in range(dims)):\n",
    "        raise ValueError(\"Final dimensions are larger than original. Did you mean to `pad`?\")\n",
    "\n",
    "\n",
    "    cropped_image_array = np.zeros(image_array.shape)\n",
    "    new_first_pixel = [0 for i in range(dims)]\n",
    "    new_last_pixel = [0 for i in range(dims)]\n",
    "\n",
    "    for dim in range(dims):\n",
    "        new_first_pixel[dim] = int(math.floor((original_dims_in_pixels[dim] - final_dims_in_pixels[dim]) / 2)) \n",
    "        new_last_pixel[dim] = new_first_pixel[dim] + final_dims_in_pixels[dim]\n",
    "\n",
    "    #for 2D:\n",
    "    if dims == 2:\n",
    "        cropped_image_array = image_array[new_first_pixel[0] : new_last_pixel[0],\n",
    "                                          new_first_pixel[1] : new_last_pixel[1]]\n",
    "    elif dims == 3:\n",
    "        cropped_image_array = image_array[new_first_pixel[0] : new_last_pixel[0],\n",
    "                                          new_first_pixel[1] : new_last_pixel[1],\n",
    "                                          new_first_pixel[2] : new_last_pixel[2]]\n",
    "    if zero_fill_mode:\n",
    "        cropped_image_array = cropped_image_array*0.\n",
    "    \n",
    "    return(cropped_image_array)"
   ]
  },
  {
   "cell_type": "markdown",
   "metadata": {},
   "source": [
    "### Usage\n",
    "\n",
    "`crop` takes an image array and crops the array according to the input dimensions.\n",
    "\n",
    "See the example below:"
   ]
  },
  {
   "cell_type": "code",
   "execution_count": null,
   "metadata": {},
   "outputs": [],
   "source": [
    "#test\n",
    "image_array = dcm2array(path_to_dicom_dir = data_path, sort_by_slice_location=True)\n",
    "cropped_image = crop(image_array=image_array, final_dims_in_pixels=[400,400, 22])\n",
    "cropped_zero_image = crop(image_array=image_array, final_dims_in_pixels=[400,400, 22], zero_fill_mode=True)\n",
    "\n",
    "#original image\n",
    "plt.figure(figsize=(16,16))\n",
    "plt.subplot(131)\n",
    "plt.title('Original image')\n",
    "plt.imshow(image_array[:,:,6])\n",
    "\n",
    "#cropped image\n",
    "plt.subplot(132)\n",
    "plt.title('Cropped image')\n",
    "plt.imshow(cropped_image[:,:,6])\n",
    "\n",
    "#cropped image zero'd\n",
    "plt.subplot(133)\n",
    "plt.title(\"Cropped zero'd image\")\n",
    "plt.imshow(cropped_zero_image[:,:,6])\n",
    "\n",
    "plt.show()"
   ]
  },
  {
   "cell_type": "markdown",
   "metadata": {},
   "source": [
    "## Padding"
   ]
  },
  {
   "cell_type": "code",
   "execution_count": null,
   "metadata": {},
   "outputs": [],
   "source": [
    "#export\n",
    "def pad(image_array, final_dims_in_pixels, zero_fill_mode=False):\n",
    "    \"\"\"\n",
    "    Pad image data to final_dim_in_pixels \n",
    "\n",
    "    Attributes:\n",
    "        image_array (float, np.array): 3D numpy array containing image data\n",
    "        final_dim_in_pixels    (list): Final number of pixels in xyz dimensions. Example: [256, 256, 80]\n",
    "        zero_fill_mode         (bool): If True, returns array filled with zeros\n",
    "\n",
    "    Returns:\n",
    "        padded_image_array (arr): Resized array containing image data\n",
    "    \"\"\"\n",
    "    \n",
    "    dims = len(final_dims_in_pixels)\n",
    "    original_dims_in_pixels = [image_array.shape[d] for d in range(len(image_array.shape))]\n",
    "\n",
    "    # test if input and output dimensions match\n",
    "    if dims != len(original_dims_in_pixels):\n",
    "        raise ValueError(\"Dimensions of the input (\" + str(len(image_array.shape)) +\n",
    "                        \") do not match those of output (\" + str(len(final_dims_in_pixels))+ \")\")\n",
    "    \n",
    "    # test if desired final image is larger than original\n",
    "    if any(final_dims_in_pixels[d] < original_dims_in_pixels[d] for d in range(dims)):\n",
    "        raise ValueError(\"Final dimensions are smaller than original. Did you mean to `crop`?\")\n",
    "\n",
    "    padded_image_array = np.zeros(final_dims_in_pixels)\n",
    "    new_first_image_pixel = [0 for i in range(dims)]\n",
    "    new_last_image_pixel = [0 for i in range(dims)]\n",
    "\n",
    "    for dim in range(dims):\n",
    "        new_first_image_pixel[dim] = int(math.floor((final_dims_in_pixels[dim] - original_dims_in_pixels[dim]) / 2)) \n",
    "        new_last_image_pixel[dim] = new_first_image_pixel[dim] + original_dims_in_pixels[dim]\n",
    "\n",
    "    #for 2D:\n",
    "    if dims == 2:\n",
    "        padded_image_array [new_first_image_pixel[0] : new_last_image_pixel[0],\n",
    "                            new_first_image_pixel[1] : new_last_image_pixel[1]] = image_array\n",
    "    elif dims == 3:\n",
    "        padded_image_array [new_first_image_pixel[0] : new_last_image_pixel[0],\n",
    "                            new_first_image_pixel[1] : new_last_image_pixel[1],\n",
    "                            new_first_image_pixel[2] : new_last_image_pixel[2]] = image_array\n",
    "    if zero_fill_mode:\n",
    "        padded_image_array = padded_image_array*0.\n",
    "    \n",
    "    return(padded_image_array)"
   ]
  },
  {
   "cell_type": "markdown",
   "metadata": {},
   "source": [
    "### Usage\n",
    "\n",
    "`pad` takes an image array and crops the array according to the input dimensions.\n",
    "\n",
    "See the example below:"
   ]
  },
  {
   "cell_type": "code",
   "execution_count": null,
   "metadata": {},
   "outputs": [],
   "source": [
    "image_array = dcm2array(path_to_dicom_dir = data_path, sort_by_slice_location=True)\n",
    "padded_image = pad(image_array=image_array, final_dims_in_pixels=[800,800,22])\n",
    "padded_zero_image = pad(image_array=image_array, final_dims_in_pixels=[800,800, 22], zero_fill_mode=True)\n",
    "\n",
    "#original image\n",
    "plt.figure(figsize=(16,16))\n",
    "plt.subplot(131)\n",
    "plt.title('Original image')\n",
    "plt.imshow(image_array[:,:,6])\n",
    "\n",
    "#padded image\n",
    "plt.subplot(132)\n",
    "plt.title('Padded image')\n",
    "plt.imshow(padded_image[:,:,6])\n",
    "\n",
    "#padded image zero'd\n",
    "plt.subplot(133)\n",
    "plt.title(\"Padded zero'd image\")\n",
    "plt.imshow(padded_zero_image[:,:,6])\n",
    "\n",
    "plt.show()"
   ]
  },
  {
   "cell_type": "markdown",
   "metadata": {},
   "source": [
    "## Resampling"
   ]
  },
  {
   "cell_type": "code",
   "execution_count": null,
   "metadata": {},
   "outputs": [],
   "source": [
    "#export\n",
    "def resample(image_array, goal_pixel_dims_list, is_seg=False):\n",
    "    \"\"\"\n",
    "    Resamples `image` to new resolution according to a compression factor using scipy's `ndimage`\n",
    "\n",
    "    Attributes:\n",
    "        image_array (float, np.array) : Array of voxel values for image\n",
    "        goal_pixel_dims_list (list)   : Goals for dimensions of final image (e.g. [256, 256, 128])\n",
    "        is_seg (bool)                 : Whether or not the image is a segmentation (i.e. pixel values are int)\n",
    "\n",
    "    Returns:\n",
    "        resampled_image_array (arr): Resampled array containing image data\n",
    "    \"\"\"\n",
    "    # if dealing with segmentation images, do not interpolate \n",
    "    # this is done by choosing interpolation order == 0\n",
    "    order = 0 if is_seg == True else 3\n",
    "    \n",
    "    original_dims_in_pixels = [image_array.shape[d] for d in range(len(image_array.shape))]\n",
    "    compression_list = [goal_pixel_dims_list[d] / original_dims_in_pixels[d] for d in range(len(image_array.shape))]\n",
    "\n",
    "    if (is_seg):\n",
    "        resized_image = ndimage.interpolation.zoom(image_array, zoom=compression_list, order=order, cval=0)\n",
    "        return resized_image\n",
    "    else:\n",
    "        resized_image = ndimage.interpolation.zoom(image_array, zoom=compression_list, order=order, cval=0)\n",
    "        return resized_image"
   ]
  },
  {
   "cell_type": "code",
   "execution_count": null,
   "metadata": {},
   "outputs": [],
   "source": [
    "#export\n",
    "def resample_by(image_array, compression_factor_list, is_seg=False):\n",
    "    \"\"\"\n",
    "    Resamples `image` to new resolution according to a compression factor using scipy's `ndimage`\n",
    "\n",
    "    Attributes:\n",
    "        image_array (float, np.array)  : Array of voxel values for image\n",
    "        compression_factor_list (list) : Compression or expansino factor (e.g. [0.1, 10.0, 1.0])\n",
    "        is_seg (bool)                  : Whether or not the image is a segmentation (i.e. pixel values are int)\n",
    "\n",
    "    Returns:\n",
    "        resampled_image_array (arr): Resampled array containing image data\n",
    "    \"\"\"\n",
    "    original_dims_in_pixels = [image_array.shape[d] for d in range(len(image_array.shape))]\n",
    "    goal_pixel_dims_list = [int(math.floor(compression_factor_list[d] * original_dims_in_pixels[d]))\n",
    "                             for d in range(len(image_array.shape))]\n",
    "    \n",
    "    resized_image = resample(image_array, goal_pixel_dims_list, is_seg)\n",
    "    \n",
    "    return(resized_image)"
   ]
  },
  {
   "cell_type": "markdown",
   "metadata": {},
   "source": [
    "### Usage\n",
    "\n",
    "`resample` takes an image array and resamples it to the dimensions given in `goal_pixel_dims_list`.\n",
    "\n",
    "`resample_by` is similar to resample but user gives a compression factor instead (e.g. [0.1,0.1,1.0] will resample the image to 10% in x and y directions)\n",
    "\n",
    "See the examples below:"
   ]
  },
  {
   "cell_type": "code",
   "execution_count": null,
   "metadata": {},
   "outputs": [],
   "source": [
    "image_array = dcm2array(path_to_dicom_dir = data_path, sort_by_slice_location=True)\n",
    "downsampled_image = resample(image_array=image_array, goal_pixel_dims_list=[51,51,22], is_seg=False)\n",
    "upsampled_image = resample(image_array=downsampled_image, goal_pixel_dims_list=[512,512,22], is_seg=False)\n",
    "\n",
    "#Plot\n",
    "plt.figure(figsize=(16,16))\n",
    "\n",
    "plt.subplot(131)\n",
    "plt.title('Original image')\n",
    "plt.imshow(image_array[:,:,6])\n",
    "\n",
    "plt.subplot(132)\n",
    "plt.title('Downsampled image')\n",
    "plt.imshow(downsampled_image[:,:,6])\n",
    "\n",
    "plt.subplot(133)\n",
    "plt.title('Re-upsampled image')\n",
    "plt.imshow(upsampled_image[:,:,6])\n",
    "\n",
    "plt.show()"
   ]
  },
  {
   "cell_type": "markdown",
   "metadata": {},
   "source": [
    "Example of using `resample_by`:"
   ]
  },
  {
   "cell_type": "code",
   "execution_count": null,
   "metadata": {},
   "outputs": [],
   "source": [
    "image_array = dcm2array(path_to_dicom_dir = data_path, sort_by_slice_location=True)\n",
    "downsampled_image = resample_by(image_array=image_array, compression_factor_list=[0.1,0.1,1.0], is_seg=False)\n",
    "upsampled_image = resample_by(image_array=downsampled_image, compression_factor_list=[10,10,1.0], is_seg=False)\n",
    "\n",
    "#Plot\n",
    "plt.figure(figsize=(16,16))\n",
    "\n",
    "plt.subplot(131)\n",
    "plt.title('Original image')\n",
    "plt.imshow(image_array[:,:,6])\n",
    "\n",
    "plt.subplot(132)\n",
    "plt.title('Downsampled image')\n",
    "plt.imshow(downsampled_image[:,:,6])\n",
    "\n",
    "plt.subplot(133)\n",
    "plt.title('Re-upsampled image')\n",
    "plt.imshow(upsampled_image[:,:,6])\n",
    "\n",
    "plt.show()"
   ]
  },
  {
   "cell_type": "markdown",
   "metadata": {},
   "source": [
    "#### Resampling example:\n",
    "Resampling segmentation to agree with original image"
   ]
  },
  {
   "cell_type": "code",
   "execution_count": null,
   "metadata": {},
   "outputs": [],
   "source": [
    "import h5py\n",
    "\n",
    "# read data\n",
    "image_array = dcm2array(path_to_dicom_dir = data_path, sort_by_slice_location=True)\n",
    "knee_segmentation = h5py.File('../data/knee-segmentation/knee_segmentation.h5', 'r')\n",
    "knee_segmentation = knee_segmentation.get('seg')\n",
    "\n",
    "print('Knee segmentation dims:', knee_segmentation_img.shape)\n",
    "print('Knee original dims:', image_array.shape)"
   ]
  },
  {
   "cell_type": "code",
   "execution_count": null,
   "metadata": {},
   "outputs": [],
   "source": [
    "# resample to desired shape\n",
    "resampled_segmentation = resample(image_array=knee_segmentation,\n",
    "                                  goal_pixel_dims_list=(512,512,22),\n",
    "                                  is_seg=True)\n",
    "\n",
    "print('Knee segmentation dims after resampling:', resampled_segmentation.shape)"
   ]
  },
  {
   "cell_type": "code",
   "execution_count": null,
   "metadata": {},
   "outputs": [],
   "source": [
    "#Plot\n",
    "plt.figure(figsize=(16,16))\n",
    "\n",
    "plt.subplot(131)\n",
    "plt.title('Original image')\n",
    "plt.imshow(image_array[:,:,6])\n",
    "\n",
    "plt.subplot(132)\n",
    "plt.title('Segmentation image')\n",
    "plt.imshow(resampled_segmentation[:,:,6])\n",
    "\n",
    "from matplotlib.colors import ListedColormap\n",
    "colors = ['white', 'black', 'red', 'green', 'blue']\n",
    "cmap = ListedColormap(colors)\n",
    "\n",
    "plt.subplot(133)\n",
    "plt.title('Overlaid segmentation')\n",
    "plt.imshow(image_array[:,:,6], cmap='gray') # I would add interpolation='none'\n",
    "plt.imshow(resampled_segmentation[:,:,6], cmap=cmap, vmin=0, vmax=4, alpha=0.6) # interpolation='none'\n",
    "\n",
    "plt.show()"
   ]
  }
 ],
 "metadata": {
  "kernelspec": {
   "display_name": "I2T2",
   "language": "python",
   "name": "i2t2"
  }
 },
 "nbformat": 4,
 "nbformat_minor": 4
}
