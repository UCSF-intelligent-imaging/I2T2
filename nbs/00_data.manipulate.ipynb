{
 "cells": [
  {
   "cell_type": "code",
   "execution_count": null,
   "metadata": {},
   "outputs": [],
   "source": [
    "# default_exp data.manipulate"
   ]
  },
  {
   "cell_type": "code",
   "execution_count": null,
   "metadata": {},
   "outputs": [],
   "source": [
    "#hide\n",
    "from nbdev.showdoc import *"
   ]
  },
  {
   "cell_type": "code",
   "execution_count": null,
   "metadata": {},
   "outputs": [],
   "source": [
    "#export\n",
    "import os\n",
    "import numpy as np\n",
    "import pandas as pd\n",
    "import pydicom"
   ]
  },
  {
   "cell_type": "markdown",
   "metadata": {},
   "source": [
    "# Intelligent Imaging Data Dongle\n",
    "\n",
    "> Suite of python tools for handling medical data."
   ]
  },
  {
   "cell_type": "markdown",
   "metadata": {},
   "source": [
    "## DataLoader"
   ]
  },
  {
   "cell_type": "code",
   "execution_count": null,
   "metadata": {},
   "outputs": [],
   "source": [
    "#export\n",
    "def dcm2array(path_to_dicom_dir, sort_by_slice_location=True):\n",
    "    \"\"\"\n",
    "    Transform DICOM data into numpy array.\n",
    "    \n",
    "    Parameters\n",
    "    ----------\n",
    "    path_to_dicom_dir : str\n",
    "        path to folder containing all dicom files for *one patient*\n",
    "    sort_by_slice_location : bool\n",
    "        if True, returning array will be ordered by slice location\n",
    "\n",
    "    Returns\n",
    "    -------\n",
    "    pixel_array : arr\n",
    "        3D array containing pixel data from dicom files\n",
    "        \n",
    "    Notes\n",
    "    -------\n",
    "    This function will require GDCM to be already installed\n",
    "    if the DICOM is compressed\n",
    "    \n",
    "    \"\"\"\n",
    "    try:\n",
    "        import gdcm                     \n",
    "    \n",
    "    except ImportError:\n",
    "        print(\"GDCM needs to be installed.\")\n",
    "        print(\"Try: conda install -c conda-forge gdcm\")\n",
    "\n",
    "    else:  \n",
    "        df = pd.DataFrame()\n",
    "        df['filename']= os.listdir(path_to_dicom_dir)\n",
    "        df['pathname']= path_to_dicom_dir + df['filename']\n",
    "\n",
    "        df['DS']=[pydicom.dcmread(x) for x in df['pathname']]\n",
    "        df['SOPInstanceUID'] = [x.SOPInstanceUID for x in df['DS']]\n",
    "        df['SliceLoc'] = [x.InstanceNumber for x in df['DS']]\n",
    "        df['Pixels'] = [x.pixel_array for x in df['DS']]\n",
    "        tempo = df['DS'][0]\n",
    "        im_at = tempo.AcquisitionMatrix, tempo.PixelSpacing\n",
    "\n",
    "        if sort_by_slice_location == True:\n",
    "            df = df.sort_values(by=['SliceLoc'])\n",
    "        pixel_array = np.dstack(np.asarray(df['Pixels']))\n",
    "\n",
    "        return pixel_array"
   ]
  },
  {
   "cell_type": "code",
   "execution_count": null,
   "metadata": {},
   "outputs": [
    {
     "name": "stdout",
     "output_type": "stream",
     "text": [
      "GDCM needs to be installed.\n",
      "Try: conda install -c conda-forge gdcm\n",
      "could not load array\n"
     ]
    }
   ],
   "source": [
    "# example usage:\n",
    "import matplotlib.pyplot as plt\n",
    "data_path = '../data/knee/'\n",
    "try:\n",
    "    array = dcm2array(path_to_dicom_dir = data_path, sort_by_slice_location=True)\n",
    "    plt.imshow(array[:,:,0])\n",
    "    plt.show()\n",
    "except:\n",
    "    print('could not load array')"
   ]
  }
 ],
 "metadata": {
  "kernelspec": {
   "display_name": "Python 3",
   "language": "python",
   "name": "python3"
  }
 },
 "nbformat": 4,
 "nbformat_minor": 4
}
