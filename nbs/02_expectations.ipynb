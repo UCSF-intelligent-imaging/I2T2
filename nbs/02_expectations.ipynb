{
 "cells": [
  {
   "cell_type": "markdown",
   "metadata": {},
   "source": [
    "# Great expectations"
   ]
  },
  {
   "cell_type": "code",
   "execution_count": 1,
   "metadata": {},
   "outputs": [],
   "source": [
    "import great_expectations as ge"
   ]
  },
  {
   "cell_type": "code",
   "execution_count": 2,
   "metadata": {},
   "outputs": [],
   "source": [
    "# export\n",
    "from fastscript import call_parse, Param, bool_arg\n",
    "from scipy import ndimage\n",
    "\n",
    "import h5py\n",
    "import math\n",
    "import matplotlib.pyplot as plt\n",
    "import numpy as np\n",
    "import os\n",
    "import pandas as pd\n",
    "import pydicom\n",
    "import scipy.io as spio"
   ]
  },
  {
   "cell_type": "code",
   "execution_count": 3,
   "metadata": {},
   "outputs": [],
   "source": [
    "from I2T2.io import dicom_dataframe"
   ]
  },
  {
   "cell_type": "code",
   "execution_count": 4,
   "metadata": {},
   "outputs": [],
   "source": [
    "import great_expectations as ge"
   ]
  },
  {
   "cell_type": "code",
   "execution_count": 5,
   "metadata": {},
   "outputs": [],
   "source": [
    "data_path = '../data/knee/'"
   ]
  },
  {
   "cell_type": "markdown",
   "metadata": {},
   "source": [
    "### Create pandas df with tag names as columns and images as rows. Values are elements"
   ]
  },
  {
   "cell_type": "code",
   "execution_count": 6,
   "metadata": {},
   "outputs": [],
   "source": [
    "#create pandas df\n",
    "dcm_df = dicom_dataframe(path_to_dicom_dir=data_path, dicom_extension='dcm')\n",
    "all_columns_pd = pd.DataFrame([dcm_df.dataframe['DS'].iloc[0]]).T\n",
    "for i in range(1,len(dcm_df.dataframe['DS'])):\n",
    "    all_columns_pd[i] = pd.DataFrame([dcm_df.dataframe['DS'].iloc[i]]).T\n",
    "all_columns_pd = all_columns_pd.T\n",
    "\n",
    "#rename columns\n",
    "for col in all_columns_pd.columns:\n",
    "    new_column_name = all_columns_pd.iloc[0][col].name\n",
    "    all_columns_pd = all_columns_pd.rename(columns={col:new_column_name})\n",
    "    \n",
    "    for index, row in all_columns_pd.iterrows():\n",
    "        row[new_column_name] = row[new_column_name].value\n",
    "\n",
    "#add pixel array, which is not part of the original DS\n",
    "all_columns_pd['pixel_array'] = all_columns_pd['Pixel Data']\n",
    "for index, row in all_columns_pd.iterrows():\n",
    "    row['pixel_array'] = dcm_df.dataframe['DS'].iloc[index].pixel_array"
   ]
  },
  {
   "cell_type": "markdown",
   "metadata": {},
   "source": [
    "### Create expectations DF"
   ]
  },
  {
   "cell_type": "code",
   "execution_count": 7,
   "metadata": {},
   "outputs": [],
   "source": [
    "my_ge_df = ge.from_pandas(all_columns_pd)"
   ]
  },
  {
   "cell_type": "code",
   "execution_count": 8,
   "metadata": {
    "scrolled": true
   },
   "outputs": [
    {
     "data": {
      "text/plain": [
       "Specific Character Set                                                      ISO_IR 100\n",
       "Image Type                                                  [ORIGINAL, PRIMARY, OTHER]\n",
       "Instance Creation Date                                                        20070101\n",
       "Instance Creation Time                                                   120000.000000\n",
       "SOP Class UID                                                1.2.840.10008.5.1.4.1.1.4\n",
       "SOP Instance UID                     1.2.826.0.1.3680043.8.1055.1.20111103111208347...\n",
       "Study Date                                                                    20070101\n",
       "Series Date                                                                   20070101\n",
       "Acquisition Date                                                              20070101\n",
       "Content Date                                                                  20070101\n",
       "Acquisition DateTime                                                    20070101120000\n",
       "Study Time                                                               120000.000000\n",
       "Series Time                                                              120000.000000\n",
       "Acquisition Time                                                         120000.000000\n",
       "Content Time                                                             120000.000000\n",
       "Modality                                                                            MR\n",
       "Study Description                                                             Knee (R)\n",
       "Series Description                                                      Sag FRSE PD FS\n",
       "Referenced Image Sequence            [{(0008, 1150): ((0008, 1150), 'UI', 26, b'1.2...\n",
       "Derivation Description               Lossless JPEG compression, selection value 1, ...\n",
       "Derivation Code Sequence             [{(0008, 0100): ((0008, 0100), 'SH', 6, b'1213...\n",
       "Patient's Name                                                              Anonymized\n",
       "Patient ID                                                                           0\n",
       "Patient's Age                                                                     000Y\n",
       "Patient's Weight                                                                     0\n",
       "Scanning Sequence                                                                   SE\n",
       "Sequence Variant                                                             [SK, OSP]\n",
       "Scan Options                              [SAT_GEMS, NPW, TRF_GEMS, FILTERED_GEMS, FS]\n",
       "MR Acquisition Type                                                                 2D\n",
       "Angio Flag                                                                           N\n",
       "Slice Thickness                                                                      4\n",
       "Repetition Time                                                                   2700\n",
       "Echo Time                                                                       27.804\n",
       "Inversion Time                                                                       0\n",
       "Number of Averages                                                                   1\n",
       "Imaging Frequency                                                              63.8601\n",
       "Imaged Nucleus                                                                      1H\n",
       "Echo Number(s)                                                                       1\n",
       "Magnetic Field Strength                                                            1.5\n",
       "Spacing Between Slices                                                             4.5\n",
       "Echo Train Length                                                                   10\n",
       "Percent Sampling                                                                   100\n",
       "Percent Phase Field of View                                                        100\n",
       "Pixel Bandwidth                                                                162.773\n",
       "Protocol Name                                                            324-58-2995/4\n",
       "Heart Rate                                                                         474\n",
       "Cardiac Number of Images                                                             0\n",
       "Trigger Window                                                                       0\n",
       "Reconstruction Diameter                                                            150\n",
       "Receive Coil Name                                                         HD TRknee PA\n",
       "Acquisition Matrix                                                    [384, 0, 0, 224]\n",
       "In-plane Phase Encoding Direction                                                  COL\n",
       "Flip Angle                                                                          90\n",
       "Variable Flip Angle Flag                                                             N\n",
       "SAR                                                                             0.0564\n",
       "Patient Position                                                                   FFS\n",
       "Study Instance UID                   1.2.826.0.1.3680043.8.1055.1.20111103111148288...\n",
       "Series Instance UID                  1.2.826.0.1.3680043.8.1055.1.20111103111204584...\n",
       "Series Number                                                                        3\n",
       "Acquisition Number                                                                   1\n",
       "Instance Number                                                                     20\n",
       "Image Position (Patient)                                 [-105.729, -105.586, 73.7768]\n",
       "Image Orientation (Patient)                                     [-0, 1, 0, -0, -0, -1]\n",
       "Frame of Reference UID               1.2.840.113619.2.176.2025.1499492.7391.1171285...\n",
       "Images in Acquisition                                                               22\n",
       "Slice Location                                                                 105.729\n",
       "Samples per Pixel                                                                    1\n",
       "Photometric Interpretation                                                 MONOCHROME2\n",
       "Rows                                                                               512\n",
       "Columns                                                                            512\n",
       "Pixel Spacing                                                           [0.293, 0.293]\n",
       "Bits Allocated                                                                      16\n",
       "Bits Stored                                                                         16\n",
       "High Bit                                                                            15\n",
       "Pixel Representation                                                                 1\n",
       "Smallest Image Pixel Value                                                           0\n",
       "Largest Image Pixel Value                                                         3593\n",
       "Pixel Padding Value                                                                  0\n",
       "Window Center                                                                     1796\n",
       "Window Width                                                                      3593\n",
       "Pixel Data                           b'\\xfe\\xff\\x00\\xe0\\x00\\x00\\x00\\x00\\xfe\\xff\\x00...\n",
       "pixel_array                          [[0, 0, 0, 0, 0, 0, 0, 0, 0, 0, 0, 0, 0, 0, 0,...\n",
       "Name: 0, dtype: object"
      ]
     },
     "execution_count": 8,
     "metadata": {},
     "output_type": "execute_result"
    }
   ],
   "source": [
    "pd.options.display.max_rows = 999\n",
    "my_ge_df.iloc[0]"
   ]
  },
  {
   "cell_type": "markdown",
   "metadata": {},
   "source": [
    "### Test some expectations"
   ]
  },
  {
   "cell_type": "code",
   "execution_count": 9,
   "metadata": {},
   "outputs": [
    {
     "data": {
      "text/plain": [
       "{\n",
       "  \"meta\": {},\n",
       "  \"success\": true,\n",
       "  \"result\": {\n",
       "    \"element_count\": 22,\n",
       "    \"missing_count\": 0,\n",
       "    \"missing_percent\": 0.0,\n",
       "    \"unexpected_count\": 0,\n",
       "    \"unexpected_percent\": 0.0,\n",
       "    \"unexpected_percent_nonmissing\": 0.0,\n",
       "    \"partial_unexpected_list\": []\n",
       "  },\n",
       "  \"exception_info\": null\n",
       "}"
      ]
     },
     "execution_count": 9,
     "metadata": {},
     "output_type": "execute_result"
    }
   ],
   "source": [
    "my_ge_df.expect_column_values_to_be_identical('Instance Creation Date')"
   ]
  },
  {
   "cell_type": "code",
   "execution_count": 10,
   "metadata": {},
   "outputs": [
    {
     "data": {
      "text/plain": [
       "{\n",
       "  \"meta\": {},\n",
       "  \"success\": true,\n",
       "  \"result\": {\n",
       "    \"element_count\": 22,\n",
       "    \"missing_count\": 0,\n",
       "    \"missing_percent\": 0.0,\n",
       "    \"unexpected_count\": 0,\n",
       "    \"unexpected_percent\": 0.0,\n",
       "    \"unexpected_percent_nonmissing\": 0.0,\n",
       "    \"partial_unexpected_list\": []\n",
       "  },\n",
       "  \"exception_info\": null\n",
       "}"
      ]
     },
     "execution_count": 10,
     "metadata": {},
     "output_type": "execute_result"
    }
   ],
   "source": [
    "my_ge_df.expect_column_values_to_be_identical('SOP Class UID')"
   ]
  },
  {
   "cell_type": "code",
   "execution_count": 11,
   "metadata": {},
   "outputs": [
    {
     "data": {
      "text/plain": [
       "{\n",
       "  \"meta\": {},\n",
       "  \"success\": true,\n",
       "  \"result\": {\n",
       "    \"element_count\": 22,\n",
       "    \"missing_count\": 0,\n",
       "    \"missing_percent\": 0.0,\n",
       "    \"unexpected_count\": 0,\n",
       "    \"unexpected_percent\": 0.0,\n",
       "    \"unexpected_percent_nonmissing\": 0.0,\n",
       "    \"partial_unexpected_list\": []\n",
       "  },\n",
       "  \"exception_info\": null\n",
       "}"
      ]
     },
     "execution_count": 11,
     "metadata": {},
     "output_type": "execute_result"
    }
   ],
   "source": [
    "my_ge_df.expect_column_values_to_match_regex(column='Study Description',regex='Knee')"
   ]
  },
  {
   "cell_type": "code",
   "execution_count": 12,
   "metadata": {},
   "outputs": [],
   "source": [
    "# my_ge_df.expect_column_values_to_have_shape(column=['pixel_array'], shape=(512,512))"
   ]
  },
  {
   "cell_type": "code",
   "execution_count": 22,
   "metadata": {},
   "outputs": [],
   "source": [
    "# my_ge_df.expect_column_values_to_match_regex(column=['Scan Options'], regex='FS')"
   ]
  },
  {
   "cell_type": "markdown",
   "metadata": {},
   "source": [
    "### Issues\n",
    "- ~~Add `expect_column_values_to_be_identical`~~\n",
    "- Add `expect_column_values_to_have_shape`\n",
    "- If content of DF is a list, expectations like `expect_column_values_to_match_regex` fail"
   ]
  },
  {
   "cell_type": "code",
   "execution_count": null,
   "metadata": {},
   "outputs": [],
   "source": []
  }
 ],
 "metadata": {
  "kernelspec": {
   "display_name": "I2T2",
   "language": "python",
   "name": "i2t2"
  },
  "language_info": {
   "codemirror_mode": {
    "name": "ipython",
    "version": 3
   },
   "file_extension": ".py",
   "mimetype": "text/x-python",
   "name": "python",
   "nbconvert_exporter": "python",
   "pygments_lexer": "ipython3",
   "version": "3.7.6"
  }
 },
 "nbformat": 4,
 "nbformat_minor": 4
}
